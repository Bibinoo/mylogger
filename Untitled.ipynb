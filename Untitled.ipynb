{
 "cells": [
  {
   "cell_type": "code",
   "execution_count": 1,
   "metadata": {},
   "outputs": [
    {
     "name": "stdout",
     "output_type": "stream",
     "text": [
      "level INFO\n"
     ]
    }
   ],
   "source": [
    "import sys\n",
    "import logging\n",
    "\n",
    "sys.path.append(\"C:\\\\Users\\\\denny_000\\\\Documents\\\\GitHub\\\\outlook\")\n",
    "import config\n",
    "\n",
    "def do_something():\n",
    "    logging.info('Doing something')\n",
    "\n",
    "def main():\n",
    "    logging.info('Started')\n",
    "    do_something()\n",
    "    logging.info('Finished')\n",
    "\n",
    "if __name__ == '__main__':\n",
    "    main()\n",
    "    for key, value in config.DevConfig.LOGGER_CONFIG.items() :\n",
    "        print (key, value)"
   ]
  },
  {
   "cell_type": "code",
   "execution_count": 1,
   "metadata": {},
   "outputs": [
    {
     "name": "stdout",
     "output_type": "stream",
     "text": [
      "level DEBUG\n"
     ]
    }
   ],
   "source": [
    "class Config:\n",
    "    LOGGER_CONFIG = {\n",
    "        'filename': 'log/error.log',\n",
    "        'filemode': 'a' # a for appending mode, w for a fresh log\n",
    "    }\n",
    "\n",
    "class DevConfig(Config):\n",
    "    LOGGER_CONFIG = {\n",
    "        'level': 'DEBUG'\n",
    "    }\n",
    "\n",
    "class ProdConfig(Config):\n",
    "    LOGGER_CONFIG = {\n",
    "        'level': 'INFO'\n",
    "    }\n",
    "\n",
    "for key, value in DevConfig.LOGGER_CONFIG.items() :\n",
    "    print (key, value)"
   ]
  },
  {
   "cell_type": "code",
   "execution_count": null,
   "metadata": {},
   "outputs": [],
   "source": []
  }
 ],
 "metadata": {
  "kernelspec": {
   "display_name": "Python 3",
   "language": "python",
   "name": "python3"
  },
  "language_info": {
   "codemirror_mode": {
    "name": "ipython",
    "version": 3
   },
   "file_extension": ".py",
   "mimetype": "text/x-python",
   "name": "python",
   "nbconvert_exporter": "python",
   "pygments_lexer": "ipython3",
   "version": "3.6.5"
  }
 },
 "nbformat": 4,
 "nbformat_minor": 2
}
